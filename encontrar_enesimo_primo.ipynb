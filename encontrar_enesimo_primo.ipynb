{
 "cells": [
  {
   "cell_type": "code",
   "execution_count": 99,
   "id": "1154f3f0-1314-49f5-849e-bd6c3bcf1f37",
   "metadata": {},
   "outputs": [],
   "source": [
    "import math # Importamos math para usar la función math.sqrt\n",
    "\n",
    "def enesimo_primo(enesimo_primo, devolver_string_o_lista = 0): # Definimos la función. \"enesimo_primo\" indica el enésimo número primo buscado, empezando desde el 2.\n",
    "    ## Chequeamos el argumento introducido\n",
    "    try: # Por si alguien no usa la función como debería.\n",
    "        int(enesimo_primo)\n",
    "    except:\n",
    "        return \"El valor ingresado no es un número\" # Terminamos la función si alguien no ingresa un número.\n",
    "    else:\n",
    "        if not int(enesimo_primo) == enesimo_primo:\n",
    "            print(f\"Redondeando tu número: {enesimo_primo} > {int(enesimo_primo)}\") # Redondeamos si alguien pasa un float.\n",
    "            enesimo_primo = int(enesimo_primo)\n",
    "        if enesimo_primo < 0:\n",
    "            print(f\"Pasando tu número a positivo: {enesimo_primo} > {enesimo_primo * -1}\") # Pasamos a positivo si alguien pasa un número negativo.\n",
    "            enesimo_primo = enesimo_primo * -1\n",
    "        \n",
    "    ## Declaración de variables\n",
    "    enesimo_primo -= 1 # Restamos 1 al enésimo primo solicitado porque el índice de la lista empieza en 0.\n",
    "    numero = 1 # Empezamos con el número 1 porque 2 es el primer primo, y antes de que empiece el loop siempre se va a sumar 1 a la variable.\n",
    "    agregar = True\n",
    "    lista_primos = []\n",
    "    \n",
    "    ## Loop de operaciones\n",
    "    while len(lista_primos) <= enesimo_primo: # Una vez la longitud de la lista es mayor al enésimo primo buscado,\n",
    "                                              # quiere decir que lo encontramos y paramos el loop.\n",
    "        agregar = True # Seteamos la variable agregar antes de las operaciones.\n",
    "        numero += 1 # Agregamos uno al número actual antes de realizar todas las operaciones.\n",
    "        raiz_numero = int(math.sqrt(numero)+1) # Calculamos la raíz cuadrada del número que queremos saber si es primo. La pasamos a int y sumamos 1.\n",
    "        for i in lista_primos: # Iteramos sobre los primos menores al número actual, guardados en la lista.\n",
    "            if i < raiz_numero: # Solo dividiendo hasta la raíz del número actual ya podemos saber si es primo.\n",
    "                if numero % i == 0:\n",
    "                    agregar = False # Si el número es divisible desactivamos la variable agregar y rompemos el loop.\n",
    "                    break\n",
    "            else: # Una vez i es mayor a la raíz del número, rompemos el loop, manteniendo el estado en que quedó \"agregar\".\n",
    "                break\n",
    "        if agregar == True:\n",
    "            lista_primos.append(numero) # Si el número es primo, lo agregamos a la lista.\n",
    "\n",
    "    ## Devolvemos el valor resultante del loop\n",
    "    if devolver_string_o_lista == 2:\n",
    "        return lista_primos\n",
    "    elif devolver_string_o_lista == 0:\n",
    "        return lista_primos[enesimo_primo]\n",
    "    else:\n",
    "        return f\"El {enesimo_primo+1}° número primo es {lista_primos[enesimo_primo]}\" #Entonces devolvemos el valor una vez termina el loop while."
   ]
  },
  {
   "cell_type": "code",
   "execution_count": 101,
   "id": "e920d052-2065-443b-b2d7-1f735f52afdb",
   "metadata": {},
   "outputs": [
    {
     "name": "stdout",
     "output_type": "stream",
     "text": [
      "CPU times: total: 33.2 s\n",
      "Wall time: 34.6 s\n"
     ]
    },
    {
     "data": {
      "text/plain": [
       "15485863"
      ]
     },
     "execution_count": 101,
     "metadata": {},
     "output_type": "execute_result"
    }
   ],
   "source": [
    "%time enesimo_primo(1000000)"
   ]
  },
  {
   "cell_type": "code",
   "execution_count": null,
   "id": "c645e0e3-3058-4f91-bde1-da0e723fc1ab",
   "metadata": {},
   "outputs": [],
   "source": []
  }
 ],
 "metadata": {
  "kernelspec": {
   "display_name": "Python 3 (ipykernel)",
   "language": "python",
   "name": "python3"
  },
  "language_info": {
   "codemirror_mode": {
    "name": "ipython",
    "version": 3
   },
   "file_extension": ".py",
   "mimetype": "text/x-python",
   "name": "python",
   "nbconvert_exporter": "python",
   "pygments_lexer": "ipython3",
   "version": "3.12.4"
  }
 },
 "nbformat": 4,
 "nbformat_minor": 5
}
