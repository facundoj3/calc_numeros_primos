{
 "cells": [
  {
   "cell_type": "code",
   "execution_count": 14,
   "metadata": {},
   "outputs": [
    {
     "name": "stdout",
     "output_type": "stream",
     "text": [
      "124\n",
      "[127, 131, 137, 139, 149, 151, 157, 163, 167, 173, 179]\n",
      "El enesimo número primo despues de n es: 179\n"
     ]
    }
   ],
   "source": [
    "# input para primer numero\n",
    "numero = int(input(\"numero para comenzar a buscar primos: \"))\n",
    "\n",
    "numero_inicial = numero\n",
    "\n",
    "def es_primo(numero):\n",
    "    if numero <= 1:\n",
    "        return False\n",
    "    for i in range(2, int(numero**0.5) + 1):\n",
    "        if numero % i == 0:\n",
    "            return False\n",
    "    return True\n",
    "\n",
    "# lista vacia para numeros primos\n",
    "lista_primos = []\n",
    "\n",
    "\n",
    "\n",
    "# buscar numeros primos hasta tener una lista de 11 numeros\n",
    "while len(lista_primos) < 11:\n",
    "    if es_primo(numero):\n",
    "        lista_primos.append(numero)\n",
    "    numero += 1  # +1 al numero inicial de busqueda\n",
    "\n",
    "# imprimir lista y enesimo numero\n",
    "print(numero_inicial)\n",
    "print(lista_primos)\n",
    "print(f\"El enesimo número primo despues de n es: {lista_primos[-1]}\")"
   ]
  }
 ],
 "metadata": {
  "kernelspec": {
   "display_name": "MAOP",
   "language": "python",
   "name": "python3"
  },
  "language_info": {
   "codemirror_mode": {
    "name": "ipython",
    "version": 3
   },
   "file_extension": ".py",
   "mimetype": "text/x-python",
   "name": "python",
   "nbconvert_exporter": "python",
   "pygments_lexer": "ipython3",
   "version": "3.12.4"
  }
 },
 "nbformat": 4,
 "nbformat_minor": 2
}
