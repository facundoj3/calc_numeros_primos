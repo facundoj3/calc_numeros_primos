{
 "cells": [
  {
   "cell_type": "code",
   "execution_count": 11,
   "id": "77ea7fd8-cd17-47ad-91f6-46d90de4b19c",
   "metadata": {},
   "outputs": [],
   "source": [
    "import math                    #Se puede importar una lib, importe math porque necesito la formula de raiz cuadrada sqrt.\n",
    "\n",
    "def es_numero_primo(numero):   #Lo tome como crear una receta de nombre \"es_numero_primo\" que va a tener como ingrediente algo que se llama \"numero\".\n",
    "  if numero < 2:               #Como condicion puse que cualquier numero menor que dos no puede ser.\n",
    "    return False               #Agregandole un false, porque todo numero menor que dos no puede ser primo, sacando al uno.\n",
    "  for i in range(2, int(math.sqrt(numero))+1): #Aca digo que voy a revisar todos los numeros desde 2 hasta la raiz cuadrada del \"numero\"(ingrediente). Elijo la raiz cuadrada porque cualquier numero grande que no sea primo tiene algo que lo divide, un divisor, antes de su raiz cuadrada.\n",
    "    if numero % i == 0:        #Si el numero se puede dividir sin dejar un resto por algun numero entre 2 y la sqrt. del \"numero\", porque si un numero lo divide sin que sobre nada, no es un numero primo.\n",
    "      return False             #Agrego False porque se que no es primo\n",
    "  return True                  #Por lo tanto, si cumple con las dos condiciones que puse (que no se pueda dividir por ningun numero entre 2 y su sqrt., es numero primo  \n",
    "\n",
    "def once_primo(N):            #Aca, otra receta con el nombre \"once_primo\" que va a buscar el 'enesimo numero primo' del ingrediente que ahora es \"N\".\n",
    "  contador = 0                #Aca hago un loop o box empezando por 0 porque no encontre ninguno.\n",
    "  numero = 2                  #Otro loop en donde digo que el contador empiece por el numero 2 ya que es el primer primo en esta funcion. (UNO NO ES PRIMO).\n",
    "\n",
    "  while True:                 #Condicion de esta funcion empieza con este bucle infinito hasta que.\n",
    "    if es_numero_primo(numero):  #Si la condicion es primo, va a usar la prinmera funcion 'es_numero_primo' que hice para confirmarlo.\n",
    "      contador += 1          #Aca, si el numero es primo, agrego 1 al contador para saber que aca hay un numero primo.\n",
    "  \n",
    "      if contador == N:     #Condicion de que si el numero de primos que encontré es igual al 'N' solicitado, entonces\n",
    "        return numero       #encontre una cantidad de primos solicitados, va a devolver el ultimo que encontró.\n",
    "    numero += 1             #Si no encontró un numero primo, aumento el valor de 'numero' en 1 para avanzar con el siguiente numero y revisar si es primo. Reinicia el bucle de revision.\n"
   ]
  },
  {
   "cell_type": "code",
   "execution_count": 27,
   "id": "9c903aa3-87ad-4451-a1c7-afd790f3bf9c",
   "metadata": {},
   "outputs": [
    {
     "name": "stdout",
     "output_type": "stream",
     "text": [
      "11\n"
     ]
    }
   ],
   "source": [
    "print (once_primo(5)) #Me daria el enesimo numero primo del N"
   ]
  },
  {
   "cell_type": "code",
   "execution_count": null,
   "id": "21f4c657-d5e3-47a6-818a-99fb0e2f8a09",
   "metadata": {},
   "outputs": [],
   "source": []
  }
 ],
 "metadata": {
  "kernelspec": {
   "display_name": "Python 3 (ipykernel)",
   "language": "python",
   "name": "python3"
  },
  "language_info": {
   "codemirror_mode": {
    "name": "ipython",
    "version": 3
   },
   "file_extension": ".py",
   "mimetype": "text/x-python",
   "name": "python",
   "nbconvert_exporter": "python",
   "pygments_lexer": "ipython3",
   "version": "3.12.4"
  }
 },
 "nbformat": 4,
 "nbformat_minor": 5
}
