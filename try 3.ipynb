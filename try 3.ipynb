{
 "cells": [
  {
   "cell_type": "code",
   "execution_count": 145,
   "id": "1154f3f0-1314-49f5-849e-bd6c3bcf1f37",
   "metadata": {},
   "outputs": [],
   "source": [
    "import math                    #Se puede importar una lib, importe math porque necesito la formula de raiz cuadrada sqrt.\n",
    "\n",
    "def es_numero_primo(numero):   #Lo tome como crear una receta de nombre \"es_numero_primo\" que va a tener como ingrediente algo que se llama \"numero\".\n",
    "  if numero < 2:               #Como condicion puse que cualquier numero menor que dos no puede ser.\n",
    "    return False               #Agregandole un false, porque todo numero menor que dos no puede ser primo, sacando al uno.\n",
    "  for i in range(2, int(math.sqrt(numero))+1): #Aca digo que voy a revisar todos los numeros desde 2 hasta la raiz cuadrada del \"numero\"(ingrediente). Elijo la raiz cuadrada porque cualquier numero grande que no sea primo tiene algo que lo divide, un divisor, antes de su raiz cuadrada.\n",
    "    if numero % i == 0:        #Si el numero se puede dividir sin dejar un resto por algun numero entre 2 y la sqrt. del \"numero\", porque si un numero lo divide sin que sobre nada, no es un numero primo.\n",
    "      return False             #Agrego False porque se que no es primo\n",
    "  return True                  #Por lo tanto, si cumple con las dos condiciones que puse (que no se pueda dividir por ningun numero entre 2 y su sqrt., es numero primo  \n",
    "\n",
    "def once_primo(N):            #Aca, otra receta con el nombre \"once_primo\" que va a buscar el 'enesimo numero primo' del ingrediente que ahora es \"N\".\n",
    "  contador = 0                #Aca hago un loop o box empezando por 0 porque no encontre ninguno.\n",
    "  numero = 2                  #Otro loop en donde digo que el contador empiece por el numero 2 ya que es el primer primo en esta funcion. (UNO NO ES PRIMO).\n",
    "\n",
    "  while True:                 #Condicion de esta funcion empieza con este bucle infinito hasta que.\n",
    "    if es_numero_primo(numero):  #Si la condicion es primo, va a usar la prinmera funcion 'es_numero_primo' que hice para confirmarlo.\n",
    "      contador += 1          #Aca, si el numero es primo, agrego 1 al contador para saber que aca hay un numero primo.\n",
    "  \n",
    "      if contador == N:     #Condicion de que si el numero de primos que encontré es igual al 'N' solicitado, entonces\n",
    "        return numero       #encontre una cantidad de primos solicitados, va a devolver el ultimo que encontró.\n",
    "    numero += 1             #Si no encontró un numero primo, aumento el valor de 'numero' en 1 para avanzar con el siguiente numero y revisar si es primo. Reinicia el bucle de revision.\n",
    "\n",
    "\n",
    "def contar_primos(primo_n = 10, incluir_lista_entera = False):\n",
    "    n = 2\n",
    "    agregar = False\n",
    "    contador = 0\n",
    "    while contador <= primo_n: # Mientras 0 < 10\n",
    "        n += 1\n",
    "        agregar = True\n",
    "        for i in range(2, int(math.sqrt(n)) + 1):\n",
    "            if n%i == 0:\n",
    "                agregar = False\n",
    "                print(f\"N es: {n}, N%I: {n%i}, N/I: {n/i}\")\n",
    "                break\n",
    "            if agregar == True:\n",
    "                contador += 1\n",
    "                print(f\"Contador {contador}\")\n",
    "\n",
    "    return n"
   ]
  },
  {
   "cell_type": "code",
   "execution_count": 147,
   "id": "e920d052-2065-443b-b2d7-1f735f52afdb",
   "metadata": {},
   "outputs": [
    {
     "name": "stdout",
     "output_type": "stream",
     "text": [
      "N es: 4, N%I: 0, N/I: 2.0\n",
      "Contador 1\n",
      "N es: 6, N%I: 0, N/I: 3.0\n",
      "Contador 2\n",
      "N es: 8, N%I: 0, N/I: 4.0\n",
      "Contador 3\n",
      "N es: 9, N%I: 0, N/I: 3.0\n",
      "N es: 10, N%I: 0, N/I: 5.0\n",
      "Contador 4\n",
      "Contador 5\n",
      "N es: 12, N%I: 0, N/I: 6.0\n",
      "Contador 6\n",
      "Contador 7\n",
      "N es: 14, N%I: 0, N/I: 7.0\n",
      "Contador 8\n",
      "N es: 15, N%I: 0, N/I: 5.0\n"
     ]
    },
    {
     "data": {
      "text/plain": [
       "15"
      ]
     },
     "execution_count": 147,
     "metadata": {},
     "output_type": "execute_result"
    }
   ],
   "source": [
    "contar_primos(7)"
   ]
  },
  {
   "cell_type": "code",
   "execution_count": null,
   "id": "c622a676-6101-4e97-ba73-61a34a80a7a1",
   "metadata": {},
   "outputs": [],
   "source": []
  }
 ],
 "metadata": {
  "kernelspec": {
   "display_name": "Python 3 (ipykernel)",
   "language": "python",
   "name": "python3"
  },
  "language_info": {
   "codemirror_mode": {
    "name": "ipython",
    "version": 3
   },
   "file_extension": ".py",
   "mimetype": "text/x-python",
   "name": "python",
   "nbconvert_exporter": "python",
   "pygments_lexer": "ipython3",
   "version": "3.12.4"
  }
 },
 "nbformat": 4,
 "nbformat_minor": 5
}
