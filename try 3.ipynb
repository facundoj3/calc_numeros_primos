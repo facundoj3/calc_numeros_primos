{
 "cells": [
  {
   "cell_type": "code",
   "execution_count": 158,
   "id": "1154f3f0-1314-49f5-849e-bd6c3bcf1f37",
   "metadata": {},
   "outputs": [],
   "source": [
    "import math # Importamos math para usar la función math.sqrt\n",
    "\n",
    "def enesimo_primo(enesimo_primo): # Definimos la función. \"enesimo_primo\" indica el enésimo número primo buscado, empezando desde el 2.\n",
    "    contador = 0 # Esta variable va a contar por cuál número primo vamos.\n",
    "    numero = 2 # Empezamos con el número 2 que es el primer primo\n",
    "    agregar = False\n",
    "    while True: # Bucle en principio infinito.\n",
    "        for i in range(2, int(math.sqrt(numero))+1): # Establecemos el rango desde 2 hasta la raíz cuadrada del número deseado.\n",
    "            if numero % i == 0:                      # Esto es así ya que cualquier divisor necesariamente sería menor a la raíz de n.\n",
    "                agregar = False # Si el resto es cero, entonces el número no es primo. Repetimos la operación para cada i.\n",
    "                break\n",
    "            else:\n",
    "                agregar = True\n",
    "        if numero == 2 or numero == 3: # Los números 2 y 3 son excepciones a nuestro código ya que su raíz cuadrada es 1 (en int), y el loop for\n",
    "            agregar = True             # no funcionaría, quedaría \"for i in range(2, 2)\". Esto se soluciona a partir del 5, cuya raíz es mayor a dos.\n",
    "    \n",
    "        if agregar == True: # Si el número es primo, sumamos 1 al contador para indicar en qué número primo estamos.\n",
    "            contador += 1   # Este método es más eficiente que usar listas.\n",
    "        if contador == enesimo_primo: # Si el contador es igual al enesimo_primo solicitado, devolvemos el número solicitado.\n",
    "            return numero\n",
    "        numero += 1 # Sino, aumentamos el número en 1 y repetimos el loop"
   ]
  },
  {
   "cell_type": "code",
   "execution_count": 168,
   "id": "e920d052-2065-443b-b2d7-1f735f52afdb",
   "metadata": {},
   "outputs": [
    {
     "data": {
      "text/plain": [
       "17"
      ]
     },
     "execution_count": 168,
     "metadata": {},
     "output_type": "execute_result"
    }
   ],
   "source": [
    "enesimo_primo(7)"
   ]
  },
  {
   "cell_type": "code",
   "execution_count": null,
   "id": "df349119-463c-431b-933f-1bef0916b335",
   "metadata": {},
   "outputs": [],
   "source": []
  }
 ],
 "metadata": {
  "kernelspec": {
   "display_name": "Python 3 (ipykernel)",
   "language": "python",
   "name": "python3"
  },
  "language_info": {
   "codemirror_mode": {
    "name": "ipython",
    "version": 3
   },
   "file_extension": ".py",
   "mimetype": "text/x-python",
   "name": "python",
   "nbconvert_exporter": "python",
   "pygments_lexer": "ipython3",
   "version": "3.12.4"
  }
 },
 "nbformat": 4,
 "nbformat_minor": 5
}
