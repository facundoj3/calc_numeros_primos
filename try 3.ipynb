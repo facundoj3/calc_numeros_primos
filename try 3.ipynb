{
 "cells": [
  {
   "cell_type": "code",
   "execution_count": 446,
   "id": "1154f3f0-1314-49f5-849e-bd6c3bcf1f37",
   "metadata": {},
   "outputs": [],
   "source": [
    "import math # Importamos math para usar la función math.sqrt\n",
    "\n",
    "def enesimo_primo(enesimo_primo, devolver_string = True): # Definimos la función. \"enesimo_primo\" indica el enésimo número primo buscado, empezando desde el 2.\n",
    "    try: # Por si alguien no usa la función como debería.\n",
    "        int(enesimo_primo)\n",
    "    except:\n",
    "        return \"El valor ingresado no es un número\" # Terminamos la función si alguien no ingresa un número.\n",
    "    else:\n",
    "        if not int(enesimo_primo) == enesimo_primo:\n",
    "            print(f\"Redondeando tu número: {enesimo_primo} > {int(enesimo_primo)}\") # Redondeamos si alguien pasa un float.\n",
    "            enesimo_primo = int(enesimo_primo)\n",
    "        if enesimo_primo < 0:\n",
    "            print(f\"Pasando tu número a positivo: {enesimo_primo} > {enesimo_primo * -1}\") # Pasamos a positivo si alguien pasa un número negativo.\n",
    "            enesimo_primo = enesimo_primo * -1\n",
    "\n",
    "    contador = 0 # Esta variable va a contar por cuál número primo vamos.\n",
    "    numero = 1 # Empezamos con el número 1 porque 2 es el primer primo.\n",
    "    agregar = True\n",
    "    while not contador == enesimo_primo: # Establecemos un loop hasta que el contador sea igual al enesimo_primo solicitado.\n",
    "        numero += 1 # Agregamos uno al número actual antes de realizar todas las operaciones.\n",
    "        for i in range(2, int(math.sqrt(numero))+1): # Establecemos el rango desde 2 hasta la raíz cuadrada del número deseado.\n",
    "            if numero % i == 0:                      # Esto es así ya que cualquier divisor necesariamente sería menor a la raíz de n.\n",
    "                agregar = False # Si el resto es cero, entonces el número no es primo. Repetimos la operación para cada i.\n",
    "                break # Si el número no es primo, rompemos el for y pasamos al próximo número. No es necesario hacer más divisiones.\n",
    "            else:\n",
    "                agregar = True # Si ninguna operación módulo da cero, entonces el número es primo y lo agregamos al contador.\n",
    "            # Para los números 2 y 3 el loop for no se ejecuta, porque su raíz es int(1), y por tanto range es (2, 2). Pero no importa porque\n",
    "            # agregar está seteado como True por defecto, y 2 y 3 son números primos. Ya con el 4 agregar pasa a False y el for empieza a funcionar.\n",
    "    \n",
    "        if agregar == True: # Si el número es primo, sumamos 1 al contador para indicar en qué número primo estamos.\n",
    "            contador += 1   # Este método es más eficiente que usar listas.\n",
    "\n",
    "                  #Como \"contador\" es igual a \"enesimo_primo\", \"número\" es el enésimo primo buscado.\n",
    "    if devolver_string == False:\n",
    "        return numero\n",
    "    else:\n",
    "        return f\"El {enesimo_primo}° número primo es {numero}\" #Entonces devolvemos el valor una vez termina el loop while."
   ]
  },
  {
   "cell_type": "code",
   "execution_count": 460,
   "id": "e920d052-2065-443b-b2d7-1f735f52afdb",
   "metadata": {},
   "outputs": [
    {
     "name": "stdout",
     "output_type": "stream",
     "text": [
      "El 300001° número primo es 4256249\n",
      "CPU times: total: 30.7 s\n",
      "Wall time: 32.8 s\n"
     ]
    }
   ],
   "source": [
    "%time print(enesimo_primo(300001))"
   ]
  },
  {
   "cell_type": "code",
   "execution_count": null,
   "id": "df349119-463c-431b-933f-1bef0916b335",
   "metadata": {},
   "outputs": [],
   "source": []
  }
 ],
 "metadata": {
  "kernelspec": {
   "display_name": "Python 3 (ipykernel)",
   "language": "python",
   "name": "python3"
  },
  "language_info": {
   "codemirror_mode": {
    "name": "ipython",
    "version": 3
   },
   "file_extension": ".py",
   "mimetype": "text/x-python",
   "name": "python",
   "nbconvert_exporter": "python",
   "pygments_lexer": "ipython3",
   "version": "3.12.4"
  }
 },
 "nbformat": 4,
 "nbformat_minor": 5
}
