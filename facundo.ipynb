{
 "cells": [
  {
   "cell_type": "code",
   "execution_count": 23,
   "id": "08d8d7a3-4894-448d-9f10-7d8cacb1b913",
   "metadata": {},
   "outputs": [],
   "source": [
    "#Función básica para empezar a pensar\n",
    "def generar_primos():\n",
    "    lista_primos = [] #Definimos una lista vacía para ir agregando los números primos\n",
    "    for n in range(10): #Iteramos sobre los 10 primeros números para ver si son primos\n",
    "        if 1 == 1: break #Código temporal para que el for no este vacío y no de error\n",
    "        #Agregar cálculo para ver si n es un número primo\n",
    "        #Si el número es primo, agregarlo a la lista\n",
    "        #Sino, pasar al próximo número\n",
    "    \n",
    "    return lista_primos #Devolvemos la lista de números primos\n",
    "\n",
    "#Separamos el código en dos funciones\n",
    "\n",
    "def contar_primos():\n",
    "    primos = generar_primos()\n",
    "    return primos"
   ]
  },
  {
   "cell_type": "code",
   "execution_count": 25,
   "id": "b9df534d-b3c1-4f7d-ae7c-6d144d215624",
   "metadata": {},
   "outputs": [
    {
     "name": "stdout",
     "output_type": "stream",
     "text": [
      "[]\n"
     ]
    }
   ],
   "source": [
    "print(contar_primos())"
   ]
  },
  {
   "cell_type": "code",
   "execution_count": null,
   "id": "7b27ac13-3a03-43e1-aafd-67e5d44f5c5f",
   "metadata": {},
   "outputs": [],
   "source": []
  }
 ],
 "metadata": {
  "kernelspec": {
   "display_name": "Python 3 (ipykernel)",
   "language": "python",
   "name": "python3"
  },
  "language_info": {
   "codemirror_mode": {
    "name": "ipython",
    "version": 3
   },
   "file_extension": ".py",
   "mimetype": "text/x-python",
   "name": "python",
   "nbconvert_exporter": "python",
   "pygments_lexer": "ipython3",
   "version": "3.12.4"
  }
 },
 "nbformat": 4,
 "nbformat_minor": 5
}
