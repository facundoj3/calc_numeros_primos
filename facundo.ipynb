{
 "cells": [
  {
   "cell_type": "code",
   "execution_count": 42,
   "id": "34c35e2b-0967-45b6-bb96-e0a362b07e17",
   "metadata": {},
   "outputs": [],
   "source": [
    "def contar_primos(primo_n = 10, incluir_lista_entera = False):\n",
    "    primo_n -= 1 # Corrección para que el primer número primero sea ingresado por el usuario con el \"1\" y no con el \"0\"\n",
    "    agregar = 0\n",
    "    n = 2\n",
    "    lista_primos = [2]\n",
    "    while True:\n",
    "        n += 1\n",
    "        for i in lista_primos:\n",
    "            if n%i == 0:\n",
    "                agregar = 0\n",
    "                break\n",
    "            agregar = 1\n",
    "        if agregar == 1:\n",
    "            lista_primos.append(n)\n",
    "        if len(lista_primos) > primo_n:\n",
    "            break\n",
    "\n",
    "    if incluir_lista_entera == True:\n",
    "        return lista_primos[primo_n], lista_primos\n",
    "    else:\n",
    "        return lista_primos[primo_n]"
   ]
  },
  {
   "cell_type": "code",
   "execution_count": 54,
   "id": "91f181d6-7a98-40d2-a5c8-098c63201b8b",
   "metadata": {},
   "outputs": [
    {
     "name": "stdout",
     "output_type": "stream",
     "text": [
      "(83, [2, 3, 5, 7, 11, 13, 17, 19, 23, 29, 31, 37, 41, 43, 47, 53, 59, 61, 67, 71, 73, 79, 83])\n"
     ]
    }
   ],
   "source": [
    "print (contar_primos(23, True))"
   ]
  },
  {
   "cell_type": "code",
   "execution_count": null,
   "id": "212ba8f3-b7d9-4f17-94f5-4add37bc69c0",
   "metadata": {},
   "outputs": [],
   "source": []
  }
 ],
 "metadata": {
  "kernelspec": {
   "display_name": "Python 3 (ipykernel)",
   "language": "python",
   "name": "python3"
  },
  "language_info": {
   "codemirror_mode": {
    "name": "ipython",
    "version": 3
   },
   "file_extension": ".py",
   "mimetype": "text/x-python",
   "name": "python",
   "nbconvert_exporter": "python",
   "pygments_lexer": "ipython3",
   "version": "3.12.2"
  }
 },
 "nbformat": 4,
 "nbformat_minor": 5
}
