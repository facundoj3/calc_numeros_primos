{
 "cells": [
  {
   "cell_type": "code",
   "execution_count": 1,
   "id": "34c35e2b-0967-45b6-bb96-e0a362b07e17",
   "metadata": {},
   "outputs": [],
   "source": [
    "#Función básica para empezar a pensar\n",
    "def generar_primos(max_num = 10000): #Establecemos el valor por defecto del parámetro, en caso de que alguien llame a la función directamente, sin pasar por la función contar_primos\n",
    "    lista_primos = [] #Definimos una lista vacía para ir agregando los números primos\n",
    "    for n in range(max_num): #Iteramos sobre los max_num primeros números para ver si son primos\n",
    "        if 1 == 1: break #Código temporal para que el for no este vacío y no de error\n",
    "        #Agregar cálculo para ver si n es un número primo\n",
    "        #Si el número es primo, agregarlo a la lista\n",
    "        #Sino, pasar al próximo número\n",
    "    \n",
    "    return lista_primos #Devolvemos la lista de números primos\n",
    "\n",
    "#Separamos el código en dos funciones por cuestiones de simplicidad\n",
    "\n",
    "def contar_primos():\n",
    "    primos = generar_primos() #Posteriormente vamos a calcular el max_num según la longitud de la lista\n",
    "    return primos"
   ]
  },
  {
   "cell_type": "code",
   "execution_count": 3,
   "id": "91f181d6-7a98-40d2-a5c8-098c63201b8b",
   "metadata": {},
   "outputs": [
    {
     "name": "stdout",
     "output_type": "stream",
     "text": [
      "[]\n"
     ]
    }
   ],
   "source": [
    "print (generar_primos())"
   ]
  },
  {
   "cell_type": "code",
   "execution_count": null,
   "id": "f0b23d25-0696-4ded-bfa1-87403df88f5a",
   "metadata": {},
   "outputs": [],
   "source": []
  }
 ],
 "metadata": {
  "kernelspec": {
   "display_name": "Python 3 (ipykernel)",
   "language": "python",
   "name": "python3"
  },
  "language_info": {
   "codemirror_mode": {
    "name": "ipython",
    "version": 3
   },
   "file_extension": ".py",
   "mimetype": "text/x-python",
   "name": "python",
   "nbconvert_exporter": "python",
   "pygments_lexer": "ipython3",
   "version": "3.12.4"
  }
 },
 "nbformat": 4,
 "nbformat_minor": 5
}
