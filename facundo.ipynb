{
 "cells": [
  {
   "cell_type": "code",
   "execution_count": 1,
   "id": "34c35e2b-0967-45b6-bb96-e0a362b07e17",
   "metadata": {},
   "outputs": [],
   "source": [
    "def contar_primos(primo_n):\n",
    "    max_num = 10000\n",
    "    agregar = 0\n",
    "    lista_primos = [2]\n",
    "    for n in range(2, max_num):\n",
    "        for i in lista_primos:\n",
    "            if n%i == 0:\n",
    "                agregar = 0\n",
    "                break\n",
    "            agregar = 1\n",
    "        if agregar == 1:\n",
    "            lista_primos.append(n)\n",
    "    \n",
    "    return lista_primos"
   ]
  },
  {
   "cell_type": "code",
   "execution_count": 3,
   "id": "91f181d6-7a98-40d2-a5c8-098c63201b8b",
   "metadata": {},
   "outputs": [
    {
     "name": "stdout",
     "output_type": "stream",
     "text": [
      "[]\n"
     ]
    }
   ],
   "source": [
    "print (generar_primos())"
   ]
  }
 ],
 "metadata": {
  "kernelspec": {
   "display_name": "Python 3 (ipykernel)",
   "language": "python",
   "name": "python3"
  },
  "language_info": {
   "codemirror_mode": {
    "name": "ipython",
    "version": 3
   },
   "file_extension": ".py",
   "mimetype": "text/x-python",
   "name": "python",
   "nbconvert_exporter": "python",
   "pygments_lexer": "ipython3",
   "version": "3.12.2"
  }
 },
 "nbformat": 4,
 "nbformat_minor": 5
}
