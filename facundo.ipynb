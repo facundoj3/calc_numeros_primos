{
 "cells": [
  {
   "cell_type": "code",
   "execution_count": 16,
   "id": "34c35e2b-0967-45b6-bb96-e0a362b07e17",
   "metadata": {},
   "outputs": [],
   "source": [
    "def contar_primos(primo_n = 10, incluir_lista_entera = False):\n",
    "    max_num = 100\n",
    "    agregar = 0\n",
    "    lista_primos = [2]\n",
    "    for n in range(2, max_num):\n",
    "        for i in lista_primos:\n",
    "            if n%i == 0:\n",
    "                agregar = 0\n",
    "                break\n",
    "            agregar = 1\n",
    "        if agregar == 1:\n",
    "            lista_primos.append(n)\n",
    "\n",
    "    if incluir_lista_entera == True:\n",
    "        return lista_primos[primo_n], lista_primos\n",
    "    else:\n",
    "        return lista_primos[primo_n]"
   ]
  },
  {
   "cell_type": "code",
   "execution_count": 20,
   "id": "91f181d6-7a98-40d2-a5c8-098c63201b8b",
   "metadata": {},
   "outputs": [
    {
     "name": "stdout",
     "output_type": "stream",
     "text": [
      "7\n"
     ]
    }
   ],
   "source": [
    "print (contar_primos(3))"
   ]
  },
  {
   "cell_type": "code",
   "execution_count": null,
   "id": "212ba8f3-b7d9-4f17-94f5-4add37bc69c0",
   "metadata": {},
   "outputs": [],
   "source": []
  }
 ],
 "metadata": {
  "kernelspec": {
   "display_name": "Python 3 (ipykernel)",
   "language": "python",
   "name": "python3"
  },
  "language_info": {
   "codemirror_mode": {
    "name": "ipython",
    "version": 3
   },
   "file_extension": ".py",
   "mimetype": "text/x-python",
   "name": "python",
   "nbconvert_exporter": "python",
   "pygments_lexer": "ipython3",
   "version": "3.12.2"
  }
 },
 "nbformat": 4,
 "nbformat_minor": 5
}
