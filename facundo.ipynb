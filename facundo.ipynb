{
 "cells": [
  {
   "cell_type": "code",
   "execution_count": 2,
   "id": "34c35e2b-0967-45b6-bb96-e0a362b07e17",
   "metadata": {},
   "outputs": [],
   "source": [
    "def contar_primos(primo_n = 10, incluir_lista_entera = False):\n",
    "    primo_n -= 1 # Corrección para que el primer número primero sea ingresado por el usuario con el \"1\" y no con el \"0\"\n",
    "    agregar = False\n",
    "    n = 2\n",
    "    lista_primos = [2]\n",
    "    while len(lista_primos) <= primo_n:\n",
    "        n += 1\n",
    "        agregar = True\n",
    "        for i in lista_primos:\n",
    "            if n%i == 0:\n",
    "                agregar = False\n",
    "                break\n",
    "        if agregar == True:\n",
    "            lista_primos.append(n)\n",
    "\n",
    "    if incluir_lista_entera == True:\n",
    "        return lista_primos[primo_n], lista_primos\n",
    "    else:\n",
    "        return lista_primos[primo_n]"
   ]
  },
  {
   "cell_type": "code",
   "execution_count": 4,
   "id": "91f181d6-7a98-40d2-a5c8-098c63201b8b",
   "metadata": {},
   "outputs": [
    {
     "name": "stdout",
     "output_type": "stream",
     "text": [
      "CPU times: total: 0 ns\n",
      "Wall time: 0 ns\n"
     ]
    },
    {
     "data": {
      "text/plain": [
       "17"
      ]
     },
     "execution_count": 4,
     "metadata": {},
     "output_type": "execute_result"
    }
   ],
   "source": [
    "%time contar_primos(7)"
   ]
  },
  {
   "cell_type": "code",
   "execution_count": 6,
   "id": "c2f19878-599a-44a9-8b13-abd0afbfa25d",
   "metadata": {},
   "outputs": [
    {
     "name": "stdout",
     "output_type": "stream",
     "text": [
      "2\n",
      "3\n",
      "5\n",
      "7\n",
      "11\n",
      "13\n",
      "17\n",
      "19\n",
      "23\n",
      "29\n",
      "31\n",
      "37\n",
      "41\n",
      "43\n",
      "47\n",
      "53\n",
      "59\n",
      "61\n",
      "67\n"
     ]
    }
   ],
   "source": [
    "for i in range(1, 20):\n",
    "    print(contar_primos(i))"
   ]
  },
  {
   "cell_type": "code",
   "execution_count": null,
   "id": "f8154332-f502-4305-8b73-ae3493dc2671",
   "metadata": {},
   "outputs": [],
   "source": []
  }
 ],
 "metadata": {
  "kernelspec": {
   "display_name": "Python 3 (ipykernel)",
   "language": "python",
   "name": "python3"
  },
  "language_info": {
   "codemirror_mode": {
    "name": "ipython",
    "version": 3
   },
   "file_extension": ".py",
   "mimetype": "text/x-python",
   "name": "python",
   "nbconvert_exporter": "python",
   "pygments_lexer": "ipython3",
   "version": "3.12.4"
  }
 },
 "nbformat": 4,
 "nbformat_minor": 5
}
